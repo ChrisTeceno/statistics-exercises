{
 "cells": [
  {
   "cell_type": "code",
   "execution_count": 1,
   "metadata": {},
   "outputs": [],
   "source": [
    "import numpy as np\n",
    "import pandas as pd\n",
    "import matplotlib.pyplot as plt\n",
    "import seaborn as sns \n",
    "np.random.seed(42)\n",
    "from matplotlib import style\n",
    "style.use('ggplot')"
   ]
  },
  {
   "cell_type": "markdown",
   "metadata": {},
   "source": [
    "Simulating Chuck a Luck\n",
    "\"Pay a Buck and Chuck-a-Luck\"\n",
    "Chuck-a-Luck is a game of chance often associated with charity fundraisers or street gambling rather than casinos.\n",
    "\n",
    "To play, the House says, \"Pay $1, pick a number and roll 3 dice. If any of those dice come up, you'll win $1, $2, or $3\".\n",
    "\n",
    "\"It's even odds\", they say, \"because the probability of rolling your number is 1/6 and you get to roll 3 dice! 1/6 + 1/6 + 1/6 is 3/6 which is 1/2\".\n",
    "\n",
    "You know better than this, so it's time to make an experiment to approximate the actual risk and payoff...\n",
    "\n",
    "Rules:\n",
    "\n",
    "The player pays $1 to play and picks a number.\n",
    "\n",
    "The House rolls 3 dice at once.\n",
    "\n",
    "Payouts:\n",
    "\n",
    "$3 if all three dice match the chosen number\n",
    "$2 if exactly two dice match the chosen number\n",
    "$1 is exactly one of the dice matches the chosen number\n",
    "If none of the dice match the player's chosen number, then the House keeps the $1."
   ]
  },
  {
   "cell_type": "markdown",
   "metadata": {},
   "source": [
    "Exercises:\n"
   ]
  },
  {
   "cell_type": "markdown",
   "metadata": {},
   "source": [
    "\n",
    "What are your chances of getting an outcome payout of $2? (where we earned $3 on the $1 ante)\n"
   ]
  },
  {
   "cell_type": "code",
   "execution_count": 2,
   "metadata": {},
   "outputs": [],
   "source": [
    "def probabily_of_roll(simulations = 100_000, n_rolls = 3, sides = 6, number = 3, matches = 3):\n",
    "    rolls = pd.DataFrame(np.random.randint(1, sides+1, size=(simulations,n_rolls)))\n",
    "    #sum the row for specifie number and average the times it equals the max\n",
    "    return (rolls[rolls == number].sum(axis=1)==(number*matches)).mean()\n"
   ]
  },
  {
   "cell_type": "code",
   "execution_count": 3,
   "metadata": {},
   "outputs": [
    {
     "data": {
      "text/plain": [
       "0.00416"
      ]
     },
     "execution_count": 3,
     "metadata": {},
     "output_type": "execute_result"
    }
   ],
   "source": [
    "probabily_of_roll()"
   ]
  },
  {
   "cell_type": "markdown",
   "metadata": {},
   "source": [
    "\n",
    "What are your chances of getting an payout of $1?\n"
   ]
  },
  {
   "cell_type": "code",
   "execution_count": 4,
   "metadata": {},
   "outputs": [
    {
     "data": {
      "text/plain": [
       "0.06952"
      ]
     },
     "execution_count": 4,
     "metadata": {},
     "output_type": "execute_result"
    }
   ],
   "source": [
    "probabily_of_roll(matches = 2)"
   ]
  },
  {
   "cell_type": "markdown",
   "metadata": {},
   "source": [
    "\n",
    "What are your chances of getting a payout of $0 where you ante $1 and win $1?\n"
   ]
  },
  {
   "cell_type": "code",
   "execution_count": 5,
   "metadata": {},
   "outputs": [
    {
     "data": {
      "text/plain": [
       "0.34627"
      ]
     },
     "execution_count": 5,
     "metadata": {},
     "output_type": "execute_result"
    }
   ],
   "source": [
    "probabily_of_roll(matches = 1)"
   ]
  },
  {
   "cell_type": "markdown",
   "metadata": {},
   "source": [
    "\n",
    "What are your chances of getting a payout of -$1 where you ante up, but don't win anything?\n"
   ]
  },
  {
   "cell_type": "code",
   "execution_count": 6,
   "metadata": {},
   "outputs": [
    {
     "data": {
      "text/plain": [
       "0.57775"
      ]
     },
     "execution_count": 6,
     "metadata": {},
     "output_type": "execute_result"
    }
   ],
   "source": [
    "probabily_of_roll(matches = 0)"
   ]
  },
  {
   "cell_type": "markdown",
   "metadata": {},
   "source": [
    "\n",
    "What is the average cost/gain per game? (think of averaging the total payout calculation across all simulations)\n"
   ]
  },
  {
   "cell_type": "code",
   "execution_count": 45,
   "metadata": {},
   "outputs": [],
   "source": [
    "def profit_from_roll(simulations = 10_000, n_rolls = 3, sides = 6, number = 3):\n",
    "    rolls = pd.DataFrame(np.random.randint(1, sides+1, size=(simulations,n_rolls)))\n",
    "    #count the matches, sum and average, subract orginal payment\n",
    "    return (rolls[rolls == number].sum(axis=1)/number).mean()-1"
   ]
  },
  {
   "cell_type": "code",
   "execution_count": 63,
   "metadata": {},
   "outputs": [
    {
     "data": {
      "text/plain": [
       "-0.4877"
      ]
     },
     "execution_count": 63,
     "metadata": {},
     "output_type": "execute_result"
    }
   ],
   "source": [
    "profit_from_roll()"
   ]
  },
  {
   "cell_type": "code",
   "execution_count": 75,
   "metadata": {},
   "outputs": [],
   "source": [
    "#keep the df from the above function\n",
    "def profit_df(simulations = 10_000, n_rolls = 3, sides = 6, number = 3):\n",
    "    rolls = pd.DataFrame(np.random.randint(1, sides+1, size=(simulations,n_rolls)))\n",
    "    #count the matches, sum and average, subract orginal payment\n",
    "    return (rolls[rolls == number].sum(axis=1)/number-1)"
   ]
  },
  {
   "cell_type": "markdown",
   "metadata": {},
   "source": [
    "\n",
    "Chart out a histogram of all the outcomes of those 1,000,000 games\n"
   ]
  },
  {
   "cell_type": "code",
   "execution_count": 91,
   "metadata": {},
   "outputs": [],
   "source": [
    "outcomes = profit_df(1_000_000)"
   ]
  },
  {
   "cell_type": "code",
   "execution_count": 90,
   "metadata": {},
   "outputs": [
    {
     "data": {
      "text/plain": [
       "Text(0.5, 0, 'profit')"
      ]
     },
     "execution_count": 90,
     "metadata": {},
     "output_type": "execute_result"
    },
    {
     "data": {
      "image/png": "[encoded data removed]",
      "text/plain": [
       "<Figure size 432x288 with 1 Axes>"
      ]
     },
     "metadata": {},
     "output_type": "display_data"
    }
   ],
   "source": [
    "f, bins = np.histogram(outcomes, bins=[-1,0,1,2,3])\n",
    "\n",
    "plt.bar(bins[:-1], f, width=1, color='lightskyblue', edgecolor='black')\n",
    "plt.xticks([-1, 0, 1, 2])\n",
    "plt.xlabel('profit')\n",
    "#plt.bar([-1,0,1,2], width=1, color='lightskyblue', edgecolor='black')\n",
    "#plt.xticks([-1, 0, 1, 2])\n"
   ]
  },
  {
   "cell_type": "markdown",
   "metadata": {},
   "source": [
    "\n",
    "Is this really a fair game of 1/6 + 1/6 + 1/6 odds?\n"
   ]
  },
  {
   "cell_type": "code",
   "execution_count": 83,
   "metadata": {},
   "outputs": [
    {
     "data": {
      "text/plain": [
       "0.004629629629629629"
      ]
     },
     "execution_count": 83,
     "metadata": {},
     "output_type": "execute_result"
    }
   ],
   "source": [
    "#chance of winning $2\n",
    "(1/6) * (1/6) * (1/6)\n"
   ]
  },
  {
   "cell_type": "code",
   "execution_count": 84,
   "metadata": {},
   "outputs": [
    {
     "data": {
      "text/plain": [
       "0.023148148148148147"
      ]
     },
     "execution_count": 84,
     "metadata": {},
     "output_type": "execute_result"
    }
   ],
   "source": [
    "# chance of winning $1\n",
    "(1/6) * (1/6) * (5/6)"
   ]
  },
  {
   "cell_type": "code",
   "execution_count": 85,
   "metadata": {},
   "outputs": [
    {
     "data": {
      "text/plain": [
       "0.11574074074074076"
      ]
     },
     "execution_count": 85,
     "metadata": {},
     "output_type": "execute_result"
    }
   ],
   "source": [
    "# chance of breaking even\n",
    "(1/6) * (5/6) * (5/6)"
   ]
  },
  {
   "cell_type": "code",
   "execution_count": 87,
   "metadata": {},
   "outputs": [
    {
     "data": {
      "text/plain": [
       "0.5787037037037038"
      ]
     },
     "execution_count": 87,
     "metadata": {},
     "output_type": "execute_result"
    }
   ],
   "source": [
    "# chance of losing $1\n",
    "(5/6) * (5/6) * (5/6)\n",
    "#58% chance of losing"
   ]
  },
  {
   "cell_type": "markdown",
   "metadata": {},
   "source": [
    "\n",
    "If you play 1,000,000 games in a row, what are your winnings/losses?"
   ]
  },
  {
   "cell_type": "code",
   "execution_count": 92,
   "metadata": {},
   "outputs": [
    {
     "data": {
      "text/plain": [
       "-0.49993600000000005"
      ]
     },
     "execution_count": 92,
     "metadata": {},
     "output_type": "execute_result"
    }
   ],
   "source": [
    "profit_from_roll(1_000_000)"
   ]
  }
 ],
 "metadata": {
  "interpreter": {
   "hash": "3067ead486e059ec00ffe7555bdb889e6e264a24dc711bf108106cc7baee8d5d"
  },
  "kernelspec": {
   "display_name": "Python 3.9.7 ('base')",
   "language": "python",
   "name": "python3"
  },
  "language_info": {
   "codemirror_mode": {
    "name": "ipython",
    "version": 3
   },
   "file_extension": ".py",
   "mimetype": "text/x-python",
   "name": "python",
   "nbconvert_exporter": "python",
   "pygments_lexer": "ipython3",
   "version": "3.9.7"
  },
  "orig_nbformat": 4
 },
 "nbformat": 4,
 "nbformat_minor": 2
}
