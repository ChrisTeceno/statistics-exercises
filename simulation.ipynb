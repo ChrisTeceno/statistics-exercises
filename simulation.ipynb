{
 "cells": [
  {
   "cell_type": "markdown",
   "metadata": {},
   "source": [
    "Exercises\n",
    "Within your codeup-data-science directory, create a directory named statistics-exercises. This will be where you do your work for this module. Create a repository on GitHub with the same name, and link your local repository to GitHub.\n",
    "\n",
    "Do your work for this exercise in either a python file named simulation.py or a jupyter notebook named simulation.ipynb.\n"
   ]
  },
  {
   "cell_type": "code",
   "execution_count": 2,
   "metadata": {},
   "outputs": [],
   "source": [
    "import numpy as np\n",
    "import pandas as pd\n",
    "\n",
    "np.random.seed(42)"
   ]
  },
  {
   "cell_type": "markdown",
   "metadata": {},
   "source": [
    "\n",
    "How likely is it that you roll doubles when rolling two dice?\n"
   ]
  },
  {
   "cell_type": "code",
   "execution_count": 3,
   "metadata": {},
   "outputs": [
    {
     "name": "stdout",
     "output_type": "stream",
     "text": [
      "0.1589\n"
     ]
    }
   ],
   "source": [
    "n_trials = nrows = 10_000\n",
    "n_dice = ncols = 2\n",
    "\n",
    "rolls = np.random.randint(1, 7, size=(nrows,ncols))\n",
    "double_counts = 0\n",
    "for roll in rolls:\n",
    "    if roll[0] == roll [1]:\n",
    "        double_counts +=1\n",
    "\n",
    "print (double_counts/n_trials)"
   ]
  },
  {
   "cell_type": "markdown",
   "metadata": {},
   "source": [
    "\n",
    "If you flip 8 coins, what is the probability of getting exactly 3 heads? What is the probability of getting more than 3 heads?\n"
   ]
  },
  {
   "cell_type": "code",
   "execution_count": 4,
   "metadata": {},
   "outputs": [
    {
     "name": "stdout",
     "output_type": "stream",
     "text": [
      "three heads : 0.2129\n",
      "more than three : 0.644\n"
     ]
    }
   ],
   "source": [
    "n_trials = 10_000\n",
    "n_coins = 8\n",
    "\n",
    "flips = np.random.randint(0,2, size=(n_trials,n_coins))\n",
    "three_heads=0\n",
    "more_than_three = 0\n",
    "for flip in flips:\n",
    "    if flip.sum() == 3:\n",
    "        three_heads +=1\n",
    "    elif flip.sum() > 3:\n",
    "        more_than_three += 1\n",
    "\n",
    "\n",
    "print(f'three heads : {three_heads/n_trials}')\n",
    "\n",
    "print(f'more than three : {more_than_three/n_trials}')"
   ]
  },
  {
   "cell_type": "markdown",
   "metadata": {},
   "source": [
    "\n",
    "There are approximitely 3 web development cohorts for every 1 data science cohort at Codeup. Assuming that Codeup randomly selects an alumni to put on a billboard, what are the odds that the two billboards I drive past both have data science students on them?\n"
   ]
  },
  {
   "cell_type": "code",
   "execution_count": 5,
   "metadata": {},
   "outputs": [
    {
     "name": "stdout",
     "output_type": "stream",
     "text": [
      "The experiemental probability of two billboards both with DS students is: 0.0634\n"
     ]
    }
   ],
   "source": [
    "n_trials = 10_000\n",
    "n_billboards = 2\n",
    "\n",
    "#0,1,2 will represent web dev students, 3 will represent datascience students\n",
    "billboards = np.random.randint(0,4, size=(n_trials,n_billboards))\n",
    "both_data = 0\n",
    "for billboard in billboards:\n",
    "    if billboard.sum()==6:\n",
    "        both_data += 1\n",
    "print(f'The experiemental probability of two billboards both with DS students is: {both_data/n_trials}')\n"
   ]
  },
  {
   "cell_type": "code",
   "execution_count": 6,
   "metadata": {},
   "outputs": [
    {
     "name": "stdout",
     "output_type": "stream",
     "text": [
      "The experiemental probability of two billboards both with DS students is: 0.062\n"
     ]
    }
   ],
   "source": [
    "\n",
    "# another example\n",
    "n_trials = 10_000\n",
    "n_billboards = 2\n",
    "\n",
    "# .25 chance the student is DS, sum of row ==2 if both student are DS, mean gives probability\n",
    "both_data = ((np.random.uniform(size=(n_trials,n_billboards)) <= .25).sum(axis=1)==2).mean()\n",
    "\n",
    "print(f'The experiemental probability of two billboards both with DS students is: {both_data}')\n"
   ]
  },
  {
   "cell_type": "markdown",
   "metadata": {},
   "source": [
    "\n",
    "Codeup students buy, on average, 3 poptart packages with a standard deviation of 1.5 a day from the snack vending machine. If on monday the machine is restocked with 17 poptart packages, how likely is it that I will be able to buy some poptarts on Friday afternoon? (Remember, if you have mean and standard deviation, use the np.random.normal)\n"
   ]
  },
  {
   "cell_type": "code",
   "execution_count": 7,
   "metadata": {},
   "outputs": [
    {
     "data": {
      "text/plain": [
       "0.9109"
      ]
     },
     "execution_count": 7,
     "metadata": {},
     "output_type": "execute_result"
    }
   ],
   "source": [
    "n_trials = 10_000\n",
    "poptarts_left=0\n",
    "for i in range(n_trials):\n",
    "    #starting poptarts\n",
    "    poptarts = 17\n",
    "    #poptarts eaten mon-thurs\n",
    "    for n in range(4):\n",
    "        poptarts -=np.random.normal(3, 1.5)\n",
    "    if poptarts >= 1:\n",
    "        poptarts_left +=1\n",
    "poptarts_left/n_trials"
   ]
  },
  {
   "cell_type": "code",
   "execution_count": 8,
   "metadata": {},
   "outputs": [
    {
     "data": {
      "text/plain": [
       "0.6101"
      ]
     },
     "execution_count": 8,
     "metadata": {},
     "output_type": "execute_result"
    }
   ],
   "source": [
    "n_trials = 10_000\n",
    "poptarts_left=0\n",
    "for i in range(n_trials):\n",
    "    #starting poptarts\n",
    "    poptarts = 17\n",
    "    #poptarts eaten mon-friday\n",
    "    for n in range(5):\n",
    "        poptarts -=np.random.normal(3, 1.5)\n",
    "    if poptarts >= 1:\n",
    "        poptarts_left +=1\n",
    "poptarts_left/n_trials"
   ]
  },
  {
   "cell_type": "markdown",
   "metadata": {},
   "source": [
    "\n",
    "\n",
    "Compare Heights\n",
    "\n",
    "Men have an average height of 178 cm and standard deviation of 8cm.\n",
    "Women have a mean of 170, sd = 6cm.\n",
    "Since you have means and standard deviations, you can use np.random.normal to generate observations.\n",
    "If a man and woman are chosen at random, P(woman taller than man)?\n"
   ]
  },
  {
   "cell_type": "code",
   "execution_count": 9,
   "metadata": {},
   "outputs": [
    {
     "data": {
      "text/plain": [
       "0.2095"
      ]
     },
     "execution_count": 9,
     "metadata": {},
     "output_type": "execute_result"
    }
   ],
   "source": [
    "n_trials = 10_000\n",
    "male = np.random.normal(178,8,n_trials) \n",
    "woman = np.random.normal(170,6, n_trials)\n",
    "(woman>male).mean()"
   ]
  },
  {
   "cell_type": "markdown",
   "metadata": {},
   "source": [
    "When installing anaconda on a student's computer, there's a 1 in 250 chance that the download is corrupted and the installation fails. What are the odds that after having 50 students download anaconda, no one has an installation issue? 100 students?\n"
   ]
  },
  {
   "cell_type": "code",
   "execution_count": 10,
   "metadata": {},
   "outputs": [],
   "source": [
    "def no_corrupted_install(students=50,trials=10_000):\n",
    "    n_trials = trials\n",
    "    n_installs = students\n",
    "    # .004 chance the file is corrupted, sum of row == n_installs if no curruptions occur\n",
    "    return ((np.random.uniform(size=(n_trials,n_installs)) >= .004).sum(axis=1) == n_installs).mean()\n",
    "    "
   ]
  },
  {
   "cell_type": "code",
   "execution_count": 11,
   "metadata": {},
   "outputs": [
    {
     "data": {
      "text/plain": [
       "0.8195"
      ]
     },
     "execution_count": 11,
     "metadata": {},
     "output_type": "execute_result"
    }
   ],
   "source": [
    "#for 50 students\n",
    "no_corrupted_install(50)"
   ]
  },
  {
   "cell_type": "code",
   "execution_count": 12,
   "metadata": {},
   "outputs": [
    {
     "data": {
      "text/plain": [
       "0.6681"
      ]
     },
     "execution_count": 12,
     "metadata": {},
     "output_type": "execute_result"
    }
   ],
   "source": [
    "#for 100\n",
    "no_corrupted_install(100)"
   ]
  },
  {
   "cell_type": "markdown",
   "metadata": {},
   "source": [
    "\n",
    "What is the probability that we observe an installation issue within the first 150 students that download anaconda?\n"
   ]
  },
  {
   "cell_type": "code",
   "execution_count": 13,
   "metadata": {},
   "outputs": [
    {
     "data": {
      "text/plain": [
       "0.45189999999999997"
      ]
     },
     "execution_count": 13,
     "metadata": {},
     "output_type": "execute_result"
    }
   ],
   "source": [
    "# 1 minus no problems = problems\n",
    "1- no_corrupted_install(150)"
   ]
  },
  {
   "cell_type": "markdown",
   "metadata": {},
   "source": [
    "\n",
    "How likely is it that 450 students all download anaconda without an issue?"
   ]
  },
  {
   "cell_type": "code",
   "execution_count": 14,
   "metadata": {},
   "outputs": [
    {
     "data": {
      "text/plain": [
       "0.1597"
      ]
     },
     "execution_count": 14,
     "metadata": {},
     "output_type": "execute_result"
    }
   ],
   "source": [
    "no_corrupted_install(450)"
   ]
  },
  {
   "cell_type": "markdown",
   "metadata": {},
   "source": [
    "\n",
    "There's a 70% chance on any given day that there will be at least one food truck at Travis Park. However, you haven't seen a food truck there in 3 days. How unlikely is this?\n"
   ]
  },
  {
   "cell_type": "code",
   "execution_count": 15,
   "metadata": {},
   "outputs": [],
   "source": [
    "def no_truck(days=3, trials=10_000):\n",
    "    n_trials = trials\n",
    "    n_days = days\n",
    "    #there is a .7 chance of food truck, >.7 mean no truck that day, sum == to days shows no truck in time period\n",
    "    return ((np.random.uniform(size=(n_trials,n_days)) >= .7).sum(axis=1) == n_days).mean()"
   ]
  },
  {
   "cell_type": "code",
   "execution_count": 16,
   "metadata": {},
   "outputs": [
    {
     "data": {
      "text/plain": [
       "0.0263"
      ]
     },
     "execution_count": 16,
     "metadata": {},
     "output_type": "execute_result"
    }
   ],
   "source": [
    "#no truck after 3 days\n",
    "no_truck(3)"
   ]
  },
  {
   "cell_type": "code",
   "execution_count": 17,
   "metadata": {},
   "outputs": [],
   "source": [
    "def is_there_a_truck(days=3, trials=10_000):\n",
    "    n_trials = trials\n",
    "    n_days = days\n",
    "    #there is a .7 chance of food truck, <.7 means a truck that day, sum >= to 1 shows a truck in atleast one day\n",
    "    return ((np.random.uniform(size=(n_trials,n_days)) <= .7).sum(axis=1) >= 1).mean()"
   ]
  },
  {
   "cell_type": "markdown",
   "metadata": {},
   "source": [
    "\n",
    "How likely is it that a food truck will show up sometime this week?\n"
   ]
  },
  {
   "cell_type": "code",
   "execution_count": 28,
   "metadata": {},
   "outputs": [
    {
     "data": {
      "text/plain": [
       "0.9962"
      ]
     },
     "execution_count": 28,
     "metadata": {},
     "output_type": "execute_result"
    }
   ],
   "source": [
    "# is there a truck during the five day work week?\n",
    "is_there_a_truck(5)\n",
    "\n",
    "# or \n",
    "#1 - no_truck(5)\n"
   ]
  },
  {
   "cell_type": "code",
   "execution_count": 27,
   "metadata": {},
   "outputs": [
    {
     "data": {
      "text/plain": [
       "0.9998"
      ]
     },
     "execution_count": 27,
     "metadata": {},
     "output_type": "execute_result"
    }
   ],
   "source": [
    "# is there a truck in the calendar week?\n",
    "is_there_a_truck(7)"
   ]
  },
  {
   "cell_type": "markdown",
   "metadata": {},
   "source": [
    "\n",
    "If 23 people are in the same room, what are the odds that two of them share a birthday? What if it's 20 people? 40?\n",
    "\n"
   ]
  },
  {
   "cell_type": "code",
   "execution_count": 20,
   "metadata": {},
   "outputs": [],
   "source": [
    "def a_shared_birthday(people = 23, trials=10_000):\n",
    "    n_people=people\n",
    "    n_trials=trials\n",
    "    shared_count=0\n",
    "    for i in range(n_trials):\n",
    "        if (np.unique(np.random.randint(0,365, size=(n_people))).size < n_people):\n",
    "            shared_count += 1\n",
    "    return shared_count/n_trials\n"
   ]
  },
  {
   "cell_type": "code",
   "execution_count": 21,
   "metadata": {},
   "outputs": [
    {
     "data": {
      "text/plain": [
       "0.5161"
      ]
     },
     "execution_count": 21,
     "metadata": {},
     "output_type": "execute_result"
    }
   ],
   "source": [
    "a_shared_birthday(23)"
   ]
  },
  {
   "cell_type": "code",
   "execution_count": 22,
   "metadata": {},
   "outputs": [
    {
     "data": {
      "text/plain": [
       "0.4134"
      ]
     },
     "execution_count": 22,
     "metadata": {},
     "output_type": "execute_result"
    }
   ],
   "source": [
    "a_shared_birthday(20)"
   ]
  },
  {
   "cell_type": "code",
   "execution_count": 23,
   "metadata": {},
   "outputs": [
    {
     "data": {
      "text/plain": [
       "0.8838"
      ]
     },
     "execution_count": 23,
     "metadata": {},
     "output_type": "execute_result"
    }
   ],
   "source": [
    "a_shared_birthday(40)"
   ]
  }
 ],
 "metadata": {
  "interpreter": {
   "hash": "3067ead486e059ec00ffe7555bdb889e6e264a24dc711bf108106cc7baee8d5d"
  },
  "kernelspec": {
   "display_name": "Python 3.9.7 ('base')",
   "language": "python",
   "name": "python3"
  },
  "language_info": {
   "codemirror_mode": {
    "name": "ipython",
    "version": 3
   },
   "file_extension": ".py",
   "mimetype": "text/x-python",
   "name": "python",
   "nbconvert_exporter": "python",
   "pygments_lexer": "ipython3",
   "version": "3.9.7"
  },
  "orig_nbformat": 4
 },
 "nbformat": 4,
 "nbformat_minor": 2
}
