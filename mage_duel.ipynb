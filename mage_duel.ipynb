{
 "cells": [
  {
   "cell_type": "code",
   "execution_count": 5,
   "metadata": {},
   "outputs": [],
   "source": [
    "import numpy as np\n",
    "import pandas as pd\n",
    "\n",
    "np.random.seed(42)"
   ]
  },
  {
   "cell_type": "markdown",
   "metadata": {},
   "source": [
    "Mage Duel!\n",
    "Let's use what we've learned to play a mage duel!\n",
    "\n",
    "Imagine your wizard has 6d4 health points and you have spells that do 6d4 damage. \"6d4\" means rolling six 4-sided dice and summing the result.\n",
    "\n",
    "Your opposing mage has 4d6 health points and spells that do 4d6. \"4d6\" means rolling four six-sided dice and summing the result.\n",
    "\n",
    "Exercises\n",
    "Simulate mage duels to answer who is the more powerful mage?\n",
    "\n",
    "Before running simulations, do you have a hypothesis of which mage will win? Do you have a hunch? Write it down. This is your first exercise.\n"
   ]
  },
  {
   "cell_type": "markdown",
   "metadata": {},
   "source": [
    "### I think the 6d4 will be the winner with min health/damage being 6 (versus 4), and the same max of 24."
   ]
  },
  {
   "cell_type": "markdown",
   "metadata": {},
   "source": [
    "Simulate 10 mage duels. Is there a clear winner? "
   ]
  },
  {
   "cell_type": "code",
   "execution_count": 103,
   "metadata": {},
   "outputs": [],
   "source": [
    "def mage_fight(mage_1_dice = 4, mage_1_rolls = 6, mage_2_dice = 6, mage_2_rolls = 4, simulations = 10):\n",
    "    m1dice = mage_1_dice\n",
    "    m1rolls = mage_1_rolls\n",
    "    m2dice = mage_2_dice\n",
    "    m2rolls = mage_2_rolls\n",
    "    m1sum_health=0\n",
    "    m2sum_health=0\n",
    "    m1sum_attack=0\n",
    "    m2sum_attack=0\n",
    "    sims = simulations\n",
    "    m1wins = 0 \n",
    "    m2wins = 0\n",
    "    ties = 0\n",
    "    total_attacks = 0\n",
    "    for i in range(sims):\n",
    "        #give them health\n",
    "        m1health = np.random.randint(1, m1dice+1, size=(1,m1rolls)).sum()\n",
    "        m1sum_health +=m1health\n",
    "        m2health = np.random.randint(1, m2dice+1, size=(1,m2rolls)).sum()\n",
    "        m2sum_health +=m2health\n",
    "        #attack\n",
    "        while True:\n",
    "            total_attacks += 1\n",
    "            m1attack = np.random.randint(1, m1dice+1, size=(1,m1rolls)).sum()\n",
    "            m1sum_attack += m1attack\n",
    "            m2attack = np.random.randint(1, m2dice+1, size=(1,m2rolls)).sum()\n",
    "            m2sum_attack += m2attack\n",
    "            m1health -= m2attack\n",
    "            m2health -= m1attack\n",
    "            #tie case\n",
    "            if m1health < 1 and m2health < 1:\n",
    "                ties += 1\n",
    "                break\n",
    "            elif m1health < 1:\n",
    "                m2wins += 1\n",
    "                break\n",
    "            elif m2health < 1:\n",
    "                m1wins += 1\n",
    "                break\n",
    "            else:\n",
    "                continue\n",
    "    if m1wins > m2wins:\n",
    "        print (f'Mage 1 wins with {m1rolls}D{m1dice}')\n",
    "    elif m2wins > m1wins:\n",
    "        print (f'Mage 2 wins with {m2rolls}D{m2dice}')\n",
    "    else:\n",
    "        print (f'The two tied! Fight again!')\n",
    "    print(f'm1wins {m1wins} m2wins {m2wins} ties {ties}')\n",
    "    print(f'Mage 1 avg attack: {m1sum_attack/total_attacks} health: {m1sum_health/sims}')\n",
    "    print(f'Mage 2 avg attack: {m2sum_attack/total_attacks} health: {m2sum_health/sims}')\n",
    "    "
   ]
  },
  {
   "cell_type": "markdown",
   "metadata": {},
   "source": []
  },
  {
   "cell_type": "code",
   "execution_count": 100,
   "metadata": {},
   "outputs": [
    {
     "name": "stdout",
     "output_type": "stream",
     "text": [
      "Mage 1 wins with 6D4\n",
      "m1wins 3 m2wins 1 ties 6\n",
      "Mage 1 avg attack: 16.6 health: 15.3\n",
      "Mage 2 avg attack: 15.6 health: 11.3\n"
     ]
    }
   ],
   "source": [
    "mage_fight()\n",
    "# the presets are for the 10 round example, mage 1 wins most of the time but not all the time"
   ]
  },
  {
   "cell_type": "markdown",
   "metadata": {},
   "source": [
    "Run that 10 duel simulation again. Was the answer similar?\n"
   ]
  },
  {
   "cell_type": "code",
   "execution_count": 110,
   "metadata": {},
   "outputs": [
    {
     "name": "stdout",
     "output_type": "stream",
     "text": [
      "Mage 2 wins with 4D6\n",
      "m1wins 1 m2wins 2 ties 7\n",
      "Mage 1 avg attack: 14.923076923076923 health: 13.8\n",
      "Mage 2 avg attack: 13.692307692307692 health: 14.4\n"
     ]
    }
   ],
   "source": [
    "mage_fight()\n",
    "#similar"
   ]
  },
  {
   "cell_type": "markdown",
   "metadata": {},
   "source": [
    "Do the results change much at 100 duels?\n"
   ]
  },
  {
   "cell_type": "code",
   "execution_count": 108,
   "metadata": {},
   "outputs": [
    {
     "name": "stdout",
     "output_type": "stream",
     "text": [
      "Mage 1 wins with 6D4\n",
      "m1wins 25 m2wins 23 ties 52\n",
      "Mage 1 avg attack: 14.549180327868852 health: 14.85\n",
      "Mage 2 avg attack: 14.524590163934427 health: 14.41\n"
     ]
    }
   ],
   "source": [
    "mage_fight(simulations=100)\n",
    "#similar"
   ]
  },
  {
   "cell_type": "markdown",
   "metadata": {},
   "source": [
    "Now, simulate 10,000 mage duels. Is there a clear winner?"
   ]
  },
  {
   "cell_type": "code",
   "execution_count": 105,
   "metadata": {},
   "outputs": [
    {
     "name": "stdout",
     "output_type": "stream",
     "text": [
      "Mage 1 wins with 6D4\n",
      "m1wins 3506 m2wins 1679 ties 4815\n",
      "Mage 1 avg attack: 14.999251497005988 health: 15.0137\n",
      "Mage 2 avg attack: 13.98860612109115 health: 13.9507\n"
     ]
    }
   ],
   "source": [
    "mage_fight(simulations = 10000)"
   ]
  },
  {
   "cell_type": "code",
   "execution_count": null,
   "metadata": {},
   "outputs": [],
   "source": []
  }
 ],
 "metadata": {
  "interpreter": {
   "hash": "3067ead486e059ec00ffe7555bdb889e6e264a24dc711bf108106cc7baee8d5d"
  },
  "kernelspec": {
   "display_name": "Python 3.9.7 ('base')",
   "language": "python",
   "name": "python3"
  },
  "language_info": {
   "codemirror_mode": {
    "name": "ipython",
    "version": 3
   },
   "file_extension": ".py",
   "mimetype": "text/x-python",
   "name": "python",
   "nbconvert_exporter": "python",
   "pygments_lexer": "ipython3",
   "version": "3.9.7"
  },
  "orig_nbformat": 4
 },
 "nbformat": 4,
 "nbformat_minor": 2
}
